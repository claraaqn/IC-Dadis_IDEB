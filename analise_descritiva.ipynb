{
 "cells": [
  {
   "cell_type": "code",
   "execution_count": 64,
   "metadata": {},
   "outputs": [],
   "source": [
    "import pandas as pd"
   ]
  },
  {
   "cell_type": "code",
   "execution_count": 65,
   "metadata": {},
   "outputs": [],
   "source": [
    "data = pd.read_csv(\"./src/br_inep_ideb_municipio.csv\")"
   ]
  },
  {
   "cell_type": "code",
   "execution_count": 66,
   "metadata": {},
   "outputs": [],
   "source": [
    "# id belo jardim = 2601706\n",
    "# id arcoverde = 2601201\n",
    "# id caruaru = 2604106\n",
    "\n",
    "# id sanharó = 2612406\n",
    "# id tacaimbo = 2614709\n",
    "# id santa cruz = 2612455\n",
    "# id recife = 2611606\n",
    "# id jaboatão = 2607901\n",
    "# id petrolina = 2611101\n",
    "# id garaunhs = 2606002"
   ]
  },
  {
   "cell_type": "code",
   "execution_count": 67,
   "metadata": {},
   "outputs": [],
   "source": [
    "dados_numericos = ['taxa_aprovacao', 'nota_saeb_matematica', 'nota_saeb_lingua_portuguesa', 'ideb']"
   ]
  },
  {
   "cell_type": "markdown",
   "metadata": {},
   "source": [
    "## Belo Jardim"
   ]
  },
  {
   "cell_type": "markdown",
   "metadata": {},
   "source": [
    "### ensino médio belo jardim"
   ]
  },
  {
   "cell_type": "code",
   "execution_count": 68,
   "metadata": {},
   "outputs": [],
   "source": [
    "data_em_bj = data[(data['id_municipio'] == 2601706) & (data['ensino'] == 'medio')]"
   ]
  },
  {
   "cell_type": "code",
   "execution_count": 69,
   "metadata": {},
   "outputs": [
    {
     "name": "stderr",
     "output_type": "stream",
     "text": [
      "C:\\Users\\mclar\\AppData\\Local\\Temp\\ipykernel_16444\\3153758499.py:1: UserWarning: Boolean Series key will be reindexed to match DataFrame index.\n",
      "  data_em_bj_est = data_em_bj[(data['rede'] == 'estadual')]\n"
     ]
    }
   ],
   "source": [
    "data_em_bj_est = data_em_bj[(data['rede'] == 'estadual')]"
   ]
  },
  {
   "cell_type": "code",
   "execution_count": 70,
   "metadata": {},
   "outputs": [
    {
     "data": {
      "text/plain": [
       "taxa_aprovacao                  88.233333\n",
       "nota_saeb_matematica           280.120000\n",
       "nota_saeb_lingua_portuguesa    278.843333\n",
       "ideb                             4.333333\n",
       "dtype: float64"
      ]
     },
     "execution_count": 70,
     "metadata": {},
     "output_type": "execute_result"
    }
   ],
   "source": [
    "data_em_bj_est[dados_numericos].mean()"
   ]
  },
  {
   "cell_type": "code",
   "execution_count": 71,
   "metadata": {},
   "outputs": [
    {
     "data": {
      "text/plain": [
       "taxa_aprovacao                  0.321455\n",
       "nota_saeb_matematica           10.591464\n",
       "nota_saeb_lingua_portuguesa    14.023710\n",
       "ideb                            0.288675\n",
       "dtype: float64"
      ]
     },
     "execution_count": 71,
     "metadata": {},
     "output_type": "execute_result"
    }
   ],
   "source": [
    "data_em_bj_est[dados_numericos].std()"
   ]
  },
  {
   "cell_type": "code",
   "execution_count": 72,
   "metadata": {},
   "outputs": [
    {
     "data": {
      "text/plain": [
       "taxa_aprovacao                   0.103333\n",
       "nota_saeb_matematica           112.179100\n",
       "nota_saeb_lingua_portuguesa    196.664433\n",
       "ideb                             0.083333\n",
       "dtype: float64"
      ]
     },
     "execution_count": 72,
     "metadata": {},
     "output_type": "execute_result"
    }
   ],
   "source": [
    "data_em_bj_est[dados_numericos].var()"
   ]
  },
  {
   "cell_type": "code",
   "execution_count": 73,
   "metadata": {},
   "outputs": [
    {
     "name": "stderr",
     "output_type": "stream",
     "text": [
      "C:\\Users\\mclar\\AppData\\Local\\Temp\\ipykernel_16444\\2787690900.py:1: UserWarning: Boolean Series key will be reindexed to match DataFrame index.\n",
      "  data_em_bj_fed = data_em_bj[(data['rede'] == 'federal')]\n"
     ]
    }
   ],
   "source": [
    "data_em_bj_fed = data_em_bj[(data['rede'] == 'federal')]"
   ]
  },
  {
   "cell_type": "code",
   "execution_count": 74,
   "metadata": {},
   "outputs": [
    {
     "data": {
      "text/plain": [
       "taxa_aprovacao                  84.85\n",
       "nota_saeb_matematica           262.89\n",
       "nota_saeb_lingua_portuguesa    259.25\n",
       "ideb                             3.80\n",
       "dtype: float64"
      ]
     },
     "execution_count": 74,
     "metadata": {},
     "output_type": "execute_result"
    }
   ],
   "source": [
    "data_em_bj_fed[dados_numericos].mean()"
   ]
  },
  {
   "cell_type": "markdown",
   "metadata": {},
   "source": [
    "### ensino fundamental 1 belo jardim"
   ]
  },
  {
   "cell_type": "code",
   "execution_count": 75,
   "metadata": {},
   "outputs": [],
   "source": [
    "data_f1_bj = data[(data['id_municipio'] == 2601706) & (data['ensino'] == 'fundamental') & (data['anos_escolares'] == 'iniciais (1-5)')]"
   ]
  },
  {
   "cell_type": "code",
   "execution_count": 76,
   "metadata": {},
   "outputs": [
    {
     "name": "stderr",
     "output_type": "stream",
     "text": [
      "C:\\Users\\mclar\\AppData\\Local\\Temp\\ipykernel_16444\\1168479854.py:1: UserWarning: Boolean Series key will be reindexed to match DataFrame index.\n",
      "  data_f1_bj_est = data_f1_bj[(data['rede'] == 'estadual')]\n"
     ]
    }
   ],
   "source": [
    "data_f1_bj_est = data_f1_bj[(data['rede'] == 'estadual')]"
   ]
  },
  {
   "cell_type": "code",
   "execution_count": 77,
   "metadata": {},
   "outputs": [
    {
     "name": "stderr",
     "output_type": "stream",
     "text": [
      "C:\\Users\\mclar\\AppData\\Local\\Temp\\ipykernel_16444\\47924271.py:2: UserWarning: Boolean Series key will be reindexed to match DataFrame index.\n",
      "  ano_f1_est = data_f1_bj_est[data['ano'].isin(ano_rel)]\n"
     ]
    },
    {
     "data": {
      "text/plain": [
       "taxa_aprovacao                  79.060\n",
       "nota_saeb_matematica           182.312\n",
       "nota_saeb_lingua_portuguesa    166.068\n",
       "ideb                             3.560\n",
       "dtype: float64"
      ]
     },
     "execution_count": 77,
     "metadata": {},
     "output_type": "execute_result"
    }
   ],
   "source": [
    "ano_rel = [2005, 2011, 2009, 2013, 2007]\n",
    "ano_f1_est = data_f1_bj_est[data['ano'].isin(ano_rel)]\n",
    "ano_f1_est[dados_numericos].mean()"
   ]
  },
  {
   "cell_type": "code",
   "execution_count": 78,
   "metadata": {},
   "outputs": [
    {
     "data": {
      "text/plain": [
       "taxa_aprovacao                 7.767754\n",
       "nota_saeb_matematica           6.566610\n",
       "nota_saeb_lingua_portuguesa    5.519100\n",
       "ideb                           0.433590\n",
       "dtype: float64"
      ]
     },
     "execution_count": 78,
     "metadata": {},
     "output_type": "execute_result"
    }
   ],
   "source": [
    "ano_f1_est[dados_numericos].std()"
   ]
  },
  {
   "cell_type": "code",
   "execution_count": 79,
   "metadata": {},
   "outputs": [
    {
     "data": {
      "text/plain": [
       "taxa_aprovacao                 60.33800\n",
       "nota_saeb_matematica           43.12037\n",
       "nota_saeb_lingua_portuguesa    30.46047\n",
       "ideb                            0.18800\n",
       "dtype: float64"
      ]
     },
     "execution_count": 79,
     "metadata": {},
     "output_type": "execute_result"
    }
   ],
   "source": [
    "ano_f1_est[dados_numericos].var()"
   ]
  },
  {
   "cell_type": "code",
   "execution_count": 80,
   "metadata": {},
   "outputs": [
    {
     "name": "stderr",
     "output_type": "stream",
     "text": [
      "C:\\Users\\mclar\\AppData\\Local\\Temp\\ipykernel_16444\\3624813280.py:1: UserWarning: Boolean Series key will be reindexed to match DataFrame index.\n",
      "  data_f1_bj_mun = data_f1_bj[(data['rede'] == 'municipal')]\n"
     ]
    }
   ],
   "source": [
    "data_f1_bj_mun = data_f1_bj[(data['rede'] == 'municipal')]"
   ]
  },
  {
   "cell_type": "code",
   "execution_count": 81,
   "metadata": {},
   "outputs": [
    {
     "data": {
      "text/plain": [
       "taxa_aprovacao                  80.077778\n",
       "nota_saeb_matematica           189.132222\n",
       "nota_saeb_lingua_portuguesa    177.477778\n",
       "ideb                             3.866667\n",
       "dtype: float64"
      ]
     },
     "execution_count": 81,
     "metadata": {},
     "output_type": "execute_result"
    }
   ],
   "source": [
    "data_f1_bj_mun[dados_numericos].mean()"
   ]
  },
  {
   "cell_type": "code",
   "execution_count": 82,
   "metadata": {},
   "outputs": [
    {
     "data": {
      "text/plain": [
       "taxa_aprovacao                  7.014232\n",
       "nota_saeb_matematica           12.513282\n",
       "nota_saeb_lingua_portuguesa    15.909223\n",
       "ideb                            0.676387\n",
       "dtype: float64"
      ]
     },
     "execution_count": 82,
     "metadata": {},
     "output_type": "execute_result"
    }
   ],
   "source": [
    "data_f1_bj_mun[dados_numericos].std()"
   ]
  },
  {
   "cell_type": "code",
   "execution_count": 83,
   "metadata": {},
   "outputs": [
    {
     "data": {
      "text/plain": [
       "taxa_aprovacao                  49.199444\n",
       "nota_saeb_matematica           156.582219\n",
       "nota_saeb_lingua_portuguesa    253.103369\n",
       "ideb                             0.457500\n",
       "dtype: float64"
      ]
     },
     "execution_count": 83,
     "metadata": {},
     "output_type": "execute_result"
    }
   ],
   "source": [
    "data_f1_bj_mun[dados_numericos].var()"
   ]
  },
  {
   "cell_type": "markdown",
   "metadata": {},
   "source": [
    "### ensino fundamental 2 belo jardim"
   ]
  },
  {
   "cell_type": "code",
   "execution_count": 84,
   "metadata": {},
   "outputs": [],
   "source": [
    "data_f2_bj = data[(data['id_municipio'] == 2601706) & (data['ensino'] == 'fundamental') & (data['anos_escolares'] == 'finais (6-9)')]"
   ]
  },
  {
   "cell_type": "code",
   "execution_count": 85,
   "metadata": {},
   "outputs": [
    {
     "name": "stderr",
     "output_type": "stream",
     "text": [
      "C:\\Users\\mclar\\AppData\\Local\\Temp\\ipykernel_16444\\3829349242.py:1: UserWarning: Boolean Series key will be reindexed to match DataFrame index.\n",
      "  data_f2_bj_est = data_f2_bj[(data['rede'] == 'estadual')]\n"
     ]
    }
   ],
   "source": [
    "data_f2_bj_est = data_f2_bj[(data['rede'] == 'estadual')]"
   ]
  },
  {
   "cell_type": "code",
   "execution_count": 86,
   "metadata": {},
   "outputs": [
    {
     "data": {
      "text/plain": [
       "taxa_aprovacao                  78.622222\n",
       "nota_saeb_matematica           235.505556\n",
       "nota_saeb_lingua_portuguesa    232.074444\n",
       "ideb                             3.555556\n",
       "dtype: float64"
      ]
     },
     "execution_count": 86,
     "metadata": {},
     "output_type": "execute_result"
    }
   ],
   "source": [
    "data_f2_bj_est[dados_numericos].mean()"
   ]
  },
  {
   "cell_type": "code",
   "execution_count": 87,
   "metadata": {},
   "outputs": [
    {
     "data": {
      "text/plain": [
       "taxa_aprovacao                 12.599780\n",
       "nota_saeb_matematica            9.016104\n",
       "nota_saeb_lingua_portuguesa    14.035533\n",
       "ideb                            0.823273\n",
       "dtype: float64"
      ]
     },
     "execution_count": 87,
     "metadata": {},
     "output_type": "execute_result"
    }
   ],
   "source": [
    "data_f2_bj_est[dados_numericos].std()"
   ]
  },
  {
   "cell_type": "code",
   "execution_count": 88,
   "metadata": {},
   "outputs": [
    {
     "data": {
      "text/plain": [
       "taxa_aprovacao                 158.754444\n",
       "nota_saeb_matematica            81.290128\n",
       "nota_saeb_lingua_portuguesa    196.996178\n",
       "ideb                             0.677778\n",
       "dtype: float64"
      ]
     },
     "execution_count": 88,
     "metadata": {},
     "output_type": "execute_result"
    }
   ],
   "source": [
    "data_f2_bj_est[dados_numericos].var()"
   ]
  },
  {
   "cell_type": "code",
   "execution_count": 89,
   "metadata": {},
   "outputs": [
    {
     "name": "stderr",
     "output_type": "stream",
     "text": [
      "C:\\Users\\mclar\\AppData\\Local\\Temp\\ipykernel_16444\\51372538.py:1: UserWarning: Boolean Series key will be reindexed to match DataFrame index.\n",
      "  data_f2_bj_mun = data_f2_bj[(data['rede'] == 'municipal')]\n"
     ]
    }
   ],
   "source": [
    "data_f2_bj_mun = data_f2_bj[(data['rede'] == 'municipal')]"
   ]
  },
  {
   "cell_type": "code",
   "execution_count": 90,
   "metadata": {},
   "outputs": [
    {
     "data": {
      "text/plain": [
       "taxa_aprovacao                  70.566667\n",
       "nota_saeb_matematica           236.342222\n",
       "nota_saeb_lingua_portuguesa    232.323333\n",
       "ideb                             3.255556\n",
       "dtype: float64"
      ]
     },
     "execution_count": 90,
     "metadata": {},
     "output_type": "execute_result"
    }
   ],
   "source": [
    "data_f2_bj_mun[dados_numericos].mean()"
   ]
  },
  {
   "cell_type": "code",
   "execution_count": 91,
   "metadata": {},
   "outputs": [
    {
     "data": {
      "text/plain": [
       "taxa_aprovacao                  8.326914\n",
       "nota_saeb_matematica           16.289295\n",
       "nota_saeb_lingua_portuguesa    20.329687\n",
       "ideb                            0.698411\n",
       "dtype: float64"
      ]
     },
     "execution_count": 91,
     "metadata": {},
     "output_type": "execute_result"
    }
   ],
   "source": [
    "data_f2_bj_mun[dados_numericos].std()"
   ]
  },
  {
   "cell_type": "code",
   "execution_count": 92,
   "metadata": {},
   "outputs": [
    {
     "data": {
      "text/plain": [
       "taxa_aprovacao                  69.337500\n",
       "nota_saeb_matematica           265.341144\n",
       "nota_saeb_lingua_portuguesa    413.296175\n",
       "ideb                             0.487778\n",
       "dtype: float64"
      ]
     },
     "execution_count": 92,
     "metadata": {},
     "output_type": "execute_result"
    }
   ],
   "source": [
    "data_f2_bj_mun[dados_numericos].var()"
   ]
  },
  {
   "cell_type": "markdown",
   "metadata": {},
   "source": [
    "## Caruaru"
   ]
  },
  {
   "cell_type": "markdown",
   "metadata": {},
   "source": [
    "### ensino médio caruaru"
   ]
  },
  {
   "cell_type": "code",
   "execution_count": 93,
   "metadata": {},
   "outputs": [],
   "source": [
    "data_em_ca = data[(data['id_municipio'] == 2604106) & (data['ensino'] == 'medio')]"
   ]
  },
  {
   "cell_type": "code",
   "execution_count": 94,
   "metadata": {},
   "outputs": [
    {
     "name": "stderr",
     "output_type": "stream",
     "text": [
      "C:\\Users\\mclar\\AppData\\Local\\Temp\\ipykernel_16444\\825384083.py:1: UserWarning: Boolean Series key will be reindexed to match DataFrame index.\n",
      "  data_em_ca_est = data_em_ca[(data['rede'] == 'estadual')]\n"
     ]
    }
   ],
   "source": [
    "data_em_ca_est = data_em_ca[(data['rede'] == 'estadual')]"
   ]
  },
  {
   "cell_type": "code",
   "execution_count": 95,
   "metadata": {},
   "outputs": [
    {
     "data": {
      "text/plain": [
       "taxa_aprovacao                  89.633333\n",
       "nota_saeb_matematica           276.923333\n",
       "nota_saeb_lingua_portuguesa    282.010000\n",
       "ideb                             4.333333\n",
       "dtype: float64"
      ]
     },
     "execution_count": 95,
     "metadata": {},
     "output_type": "execute_result"
    }
   ],
   "source": [
    "data_em_ca_est[dados_numericos].mean()"
   ]
  },
  {
   "cell_type": "markdown",
   "metadata": {},
   "source": [
    "### ensino fundamnetal 1 caruaru "
   ]
  },
  {
   "cell_type": "code",
   "execution_count": 96,
   "metadata": {},
   "outputs": [],
   "source": [
    "data_f1_ca = data[(data['id_municipio'] == 2604106) & (data['ensino'] == 'fundamental') & (data['anos_escolares'] == 'iniciais (1-5)')]"
   ]
  },
  {
   "cell_type": "code",
   "execution_count": 97,
   "metadata": {},
   "outputs": [
    {
     "name": "stderr",
     "output_type": "stream",
     "text": [
      "C:\\Users\\mclar\\AppData\\Local\\Temp\\ipykernel_16444\\1314678244.py:1: UserWarning: Boolean Series key will be reindexed to match DataFrame index.\n",
      "  data_f1_ca_est = data_f1_ca[(data['rede'] == 'estadual')]\n"
     ]
    }
   ],
   "source": [
    "data_f1_ca_est = data_f1_ca[(data['rede'] == 'estadual')]"
   ]
  },
  {
   "cell_type": "code",
   "execution_count": 98,
   "metadata": {},
   "outputs": [
    {
     "name": "stderr",
     "output_type": "stream",
     "text": [
      "C:\\Users\\mclar\\AppData\\Local\\Temp\\ipykernel_16444\\171378380.py:2: UserWarning: Boolean Series key will be reindexed to match DataFrame index.\n",
      "  ano_f1_est_ca = data_f1_ca_est[data['ano'].isin(ano_rel_ca)]\n"
     ]
    },
    {
     "data": {
      "text/plain": [
       "taxa_aprovacao                  82.966667\n",
       "nota_saeb_matematica           188.005000\n",
       "nota_saeb_lingua_portuguesa    174.643333\n",
       "ideb                             4.050000\n",
       "dtype: float64"
      ]
     },
     "execution_count": 98,
     "metadata": {},
     "output_type": "execute_result"
    }
   ],
   "source": [
    "ano_rel_ca = [2005, 2011, 2009, 2013, 2007, 2015]\n",
    "ano_f1_est_ca = data_f1_ca_est[data['ano'].isin(ano_rel_ca)]\n",
    "ano_f1_est_ca[dados_numericos].mean()"
   ]
  },
  {
   "cell_type": "code",
   "execution_count": 99,
   "metadata": {},
   "outputs": [
    {
     "name": "stderr",
     "output_type": "stream",
     "text": [
      "C:\\Users\\mclar\\AppData\\Local\\Temp\\ipykernel_16444\\742379155.py:1: UserWarning: Boolean Series key will be reindexed to match DataFrame index.\n",
      "  data_f1_ca_mun = data_f1_ca[(data['rede'] == 'municipal')]\n"
     ]
    }
   ],
   "source": [
    "data_f1_ca_mun = data_f1_ca[(data['rede'] == 'municipal')]"
   ]
  },
  {
   "cell_type": "code",
   "execution_count": 100,
   "metadata": {},
   "outputs": [
    {
     "data": {
      "text/plain": [
       "taxa_aprovacao                  84.655556\n",
       "nota_saeb_matematica           201.757778\n",
       "nota_saeb_lingua_portuguesa    189.030000\n",
       "ideb                             4.477778\n",
       "dtype: float64"
      ]
     },
     "execution_count": 100,
     "metadata": {},
     "output_type": "execute_result"
    }
   ],
   "source": [
    "data_f1_ca_mun[dados_numericos].mean()"
   ]
  },
  {
   "cell_type": "markdown",
   "metadata": {},
   "source": [
    "### ensino fundamental 2 caruaru"
   ]
  },
  {
   "cell_type": "code",
   "execution_count": 101,
   "metadata": {},
   "outputs": [],
   "source": [
    "data_f2_ca = data[(data['id_municipio'] == 2604106) & (data['ensino'] == 'fundamental') & (data['anos_escolares'] == 'finais (6-9)')]"
   ]
  },
  {
   "cell_type": "code",
   "execution_count": 102,
   "metadata": {},
   "outputs": [
    {
     "name": "stderr",
     "output_type": "stream",
     "text": [
      "C:\\Users\\mclar\\AppData\\Local\\Temp\\ipykernel_16444\\1134171921.py:1: UserWarning: Boolean Series key will be reindexed to match DataFrame index.\n",
      "  data_f2_ca_est = data_f2_ca[(data['rede'] == 'estadual')]\n"
     ]
    }
   ],
   "source": [
    "data_f2_ca_est = data_f2_ca[(data['rede'] == 'estadual')]"
   ]
  },
  {
   "cell_type": "code",
   "execution_count": 103,
   "metadata": {},
   "outputs": [
    {
     "data": {
      "text/plain": [
       "taxa_aprovacao                  76.022222\n",
       "nota_saeb_matematica           241.221111\n",
       "nota_saeb_lingua_portuguesa    238.946667\n",
       "ideb                             3.588889\n",
       "dtype: float64"
      ]
     },
     "execution_count": 103,
     "metadata": {},
     "output_type": "execute_result"
    }
   ],
   "source": [
    "data_f2_ca_est[dados_numericos].mean()"
   ]
  },
  {
   "cell_type": "code",
   "execution_count": 104,
   "metadata": {},
   "outputs": [
    {
     "name": "stderr",
     "output_type": "stream",
     "text": [
      "C:\\Users\\mclar\\AppData\\Local\\Temp\\ipykernel_16444\\3248694801.py:1: UserWarning: Boolean Series key will be reindexed to match DataFrame index.\n",
      "  data_f2_ca_mun = data_f2_ca[(data['rede'] == 'municipal')]\n"
     ]
    }
   ],
   "source": [
    "data_f2_ca_mun = data_f2_ca[(data['rede'] == 'municipal')]"
   ]
  },
  {
   "cell_type": "code",
   "execution_count": 105,
   "metadata": {},
   "outputs": [
    {
     "data": {
      "text/plain": [
       "taxa_aprovacao                  76.011111\n",
       "nota_saeb_matematica           247.757500\n",
       "nota_saeb_lingua_portuguesa    243.625000\n",
       "ideb                             3.800000\n",
       "dtype: float64"
      ]
     },
     "execution_count": 105,
     "metadata": {},
     "output_type": "execute_result"
    }
   ],
   "source": [
    "data_f2_ca_mun[dados_numericos].mean()"
   ]
  },
  {
   "cell_type": "markdown",
   "metadata": {},
   "source": [
    "## Arcoverde"
   ]
  },
  {
   "cell_type": "markdown",
   "metadata": {},
   "source": [
    "### ensino médio arcoverde"
   ]
  },
  {
   "cell_type": "code",
   "execution_count": 106,
   "metadata": {},
   "outputs": [],
   "source": [
    "data_em_ar = data[(data['id_municipio'] == 2601201) & (data['ensino'] == 'medio')]"
   ]
  },
  {
   "cell_type": "code",
   "execution_count": 107,
   "metadata": {},
   "outputs": [
    {
     "name": "stderr",
     "output_type": "stream",
     "text": [
      "C:\\Users\\mclar\\AppData\\Local\\Temp\\ipykernel_16444\\1693378446.py:1: UserWarning: Boolean Series key will be reindexed to match DataFrame index.\n",
      "  data_em_ar_est = data_em_ar[(data['rede'] == 'estadual')]\n"
     ]
    }
   ],
   "source": [
    "data_em_ar_est = data_em_ar[(data['rede'] == 'estadual')]"
   ]
  },
  {
   "cell_type": "code",
   "execution_count": 108,
   "metadata": {},
   "outputs": [
    {
     "data": {
      "text/plain": [
       "taxa_aprovacao                  95.333333\n",
       "nota_saeb_matematica           275.873333\n",
       "nota_saeb_lingua_portuguesa    280.050000\n",
       "ideb                             4.566667\n",
       "dtype: float64"
      ]
     },
     "execution_count": 108,
     "metadata": {},
     "output_type": "execute_result"
    }
   ],
   "source": [
    "data_em_ar_est[dados_numericos].mean()"
   ]
  },
  {
   "cell_type": "code",
   "execution_count": 109,
   "metadata": {},
   "outputs": [
    {
     "data": {
      "text/plain": [
       "taxa_aprovacao                  1.379613\n",
       "nota_saeb_matematica            9.186650\n",
       "nota_saeb_lingua_portuguesa    10.496776\n",
       "ideb                            0.230940\n",
       "dtype: float64"
      ]
     },
     "execution_count": 109,
     "metadata": {},
     "output_type": "execute_result"
    }
   ],
   "source": [
    "data_em_ar_est[dados_numericos].std()"
   ]
  },
  {
   "cell_type": "code",
   "execution_count": 110,
   "metadata": {},
   "outputs": [
    {
     "data": {
      "text/plain": [
       "taxa_aprovacao                   1.903333\n",
       "nota_saeb_matematica            84.394533\n",
       "nota_saeb_lingua_portuguesa    110.182300\n",
       "ideb                             0.053333\n",
       "dtype: float64"
      ]
     },
     "execution_count": 110,
     "metadata": {},
     "output_type": "execute_result"
    }
   ],
   "source": [
    "data_em_ar_est[dados_numericos].var()"
   ]
  },
  {
   "cell_type": "markdown",
   "metadata": {},
   "source": [
    "### ensino fundamental 1 arcoverde"
   ]
  },
  {
   "cell_type": "code",
   "execution_count": 111,
   "metadata": {},
   "outputs": [],
   "source": [
    "data_f1_ar = data[(data['id_municipio'] == 2601201) & (data['ensino'] == 'fundamental') & (data['anos_escolares'] == 'iniciais (1-5)')]"
   ]
  },
  {
   "cell_type": "code",
   "execution_count": 112,
   "metadata": {},
   "outputs": [
    {
     "name": "stderr",
     "output_type": "stream",
     "text": [
      "C:\\Users\\mclar\\AppData\\Local\\Temp\\ipykernel_16444\\763057000.py:1: UserWarning: Boolean Series key will be reindexed to match DataFrame index.\n",
      "  data_f1_ar_est = data_f1_ar[(data['rede'] == 'estadual')]\n"
     ]
    }
   ],
   "source": [
    "data_f1_ar_est = data_f1_ar[(data['rede'] == 'estadual')]"
   ]
  },
  {
   "cell_type": "code",
   "execution_count": 113,
   "metadata": {},
   "outputs": [
    {
     "name": "stderr",
     "output_type": "stream",
     "text": [
      "C:\\Users\\mclar\\AppData\\Local\\Temp\\ipykernel_16444\\3085114809.py:2: UserWarning: Boolean Series key will be reindexed to match DataFrame index.\n",
      "  ano_f1_est_ar = data_f1_ar_est[data['ano'].isin(ano_rel_ar)]\n"
     ]
    },
    {
     "data": {
      "text/plain": [
       "taxa_aprovacao                  88.671429\n",
       "nota_saeb_matematica           190.220000\n",
       "nota_saeb_lingua_portuguesa    177.125714\n",
       "ideb                             4.357143\n",
       "dtype: float64"
      ]
     },
     "execution_count": 113,
     "metadata": {},
     "output_type": "execute_result"
    }
   ],
   "source": [
    "ano_rel_ar = [2005, 2011, 2009, 2013, 2007, 2015, 2017]\n",
    "ano_f1_est_ar = data_f1_ar_est[data['ano'].isin(ano_rel_ar)]\n",
    "ano_f1_est_ar[dados_numericos].mean()"
   ]
  },
  {
   "cell_type": "code",
   "execution_count": 114,
   "metadata": {},
   "outputs": [
    {
     "data": {
      "text/plain": [
       "taxa_aprovacao                  9.196687\n",
       "nota_saeb_matematica           12.962567\n",
       "nota_saeb_lingua_portuguesa    17.616924\n",
       "ideb                            0.897881\n",
       "dtype: float64"
      ]
     },
     "execution_count": 114,
     "metadata": {},
     "output_type": "execute_result"
    }
   ],
   "source": [
    "ano_f1_est_ar[dados_numericos].std()"
   ]
  },
  {
   "cell_type": "code",
   "execution_count": 115,
   "metadata": {},
   "outputs": [
    {
     "data": {
      "text/plain": [
       "taxa_aprovacao                  84.579048\n",
       "nota_saeb_matematica           168.028133\n",
       "nota_saeb_lingua_portuguesa    310.355995\n",
       "ideb                             0.806190\n",
       "dtype: float64"
      ]
     },
     "execution_count": 115,
     "metadata": {},
     "output_type": "execute_result"
    }
   ],
   "source": [
    "ano_f1_est_ar[dados_numericos].var()"
   ]
  },
  {
   "cell_type": "code",
   "execution_count": 116,
   "metadata": {},
   "outputs": [
    {
     "name": "stderr",
     "output_type": "stream",
     "text": [
      "C:\\Users\\mclar\\AppData\\Local\\Temp\\ipykernel_16444\\3356502044.py:1: UserWarning: Boolean Series key will be reindexed to match DataFrame index.\n",
      "  data_f1_ar_mun = data_f1_ar[(data['rede'] == 'municipal')]\n"
     ]
    }
   ],
   "source": [
    "data_f1_ar_mun = data_f1_ar[(data['rede'] == 'municipal')]"
   ]
  },
  {
   "cell_type": "code",
   "execution_count": 117,
   "metadata": {},
   "outputs": [
    {
     "data": {
      "text/plain": [
       "taxa_aprovacao                  85.711111\n",
       "nota_saeb_matematica           200.904444\n",
       "nota_saeb_lingua_portuguesa    184.578889\n",
       "ideb                             4.488889\n",
       "dtype: float64"
      ]
     },
     "execution_count": 117,
     "metadata": {},
     "output_type": "execute_result"
    }
   ],
   "source": [
    "data_f1_ar_mun[dados_numericos].mean()"
   ]
  },
  {
   "cell_type": "code",
   "execution_count": 118,
   "metadata": {},
   "outputs": [
    {
     "data": {
      "text/plain": [
       "taxa_aprovacao                 10.343047\n",
       "nota_saeb_matematica           23.512567\n",
       "nota_saeb_lingua_portuguesa    21.583718\n",
       "ideb                            1.117413\n",
       "dtype: float64"
      ]
     },
     "execution_count": 118,
     "metadata": {},
     "output_type": "execute_result"
    }
   ],
   "source": [
    "data_f1_ar_mun[dados_numericos].std()"
   ]
  },
  {
   "cell_type": "code",
   "execution_count": 119,
   "metadata": {},
   "outputs": [
    {
     "data": {
      "text/plain": [
       "taxa_aprovacao                 10.343047\n",
       "nota_saeb_matematica           23.512567\n",
       "nota_saeb_lingua_portuguesa    21.583718\n",
       "ideb                            1.117413\n",
       "dtype: float64"
      ]
     },
     "execution_count": 119,
     "metadata": {},
     "output_type": "execute_result"
    }
   ],
   "source": [
    "data_f1_ar_mun[dados_numericos].std()"
   ]
  },
  {
   "cell_type": "markdown",
   "metadata": {},
   "source": [
    "### ensino fundamental 2 arcoverde"
   ]
  },
  {
   "cell_type": "code",
   "execution_count": 120,
   "metadata": {},
   "outputs": [],
   "source": [
    "data_f2_ar = data[(data['id_municipio'] == 2601201) & (data['ensino'] == 'fundamental') & (data['anos_escolares'] == 'finais (6-9)')]"
   ]
  },
  {
   "cell_type": "code",
   "execution_count": 121,
   "metadata": {},
   "outputs": [
    {
     "name": "stderr",
     "output_type": "stream",
     "text": [
      "C:\\Users\\mclar\\AppData\\Local\\Temp\\ipykernel_16444\\1851453787.py:1: UserWarning: Boolean Series key will be reindexed to match DataFrame index.\n",
      "  data_f2_ar_est = data_f2_ar[(data['rede'] == 'estadual')]\n"
     ]
    }
   ],
   "source": [
    "data_f2_ar_est = data_f2_ar[(data['rede'] == 'estadual')]"
   ]
  },
  {
   "cell_type": "code",
   "execution_count": 122,
   "metadata": {},
   "outputs": [
    {
     "data": {
      "text/plain": [
       "taxa_aprovacao                  83.077778\n",
       "nota_saeb_matematica           242.226667\n",
       "nota_saeb_lingua_portuguesa    238.016667\n",
       "ideb                             3.922222\n",
       "dtype: float64"
      ]
     },
     "execution_count": 122,
     "metadata": {},
     "output_type": "execute_result"
    }
   ],
   "source": [
    "data_f2_ar_est[dados_numericos].mean()"
   ]
  },
  {
   "cell_type": "code",
   "execution_count": 123,
   "metadata": {},
   "outputs": [
    {
     "data": {
      "text/plain": [
       "taxa_aprovacao                 14.119913\n",
       "nota_saeb_matematica           10.182048\n",
       "nota_saeb_lingua_portuguesa    14.777771\n",
       "ideb                            0.954958\n",
       "dtype: float64"
      ]
     },
     "execution_count": 123,
     "metadata": {},
     "output_type": "execute_result"
    }
   ],
   "source": [
    "data_f2_ar_est[dados_numericos].std()"
   ]
  },
  {
   "cell_type": "code",
   "execution_count": 124,
   "metadata": {},
   "outputs": [
    {
     "data": {
      "text/plain": [
       "taxa_aprovacao                 199.371944\n",
       "nota_saeb_matematica           103.674100\n",
       "nota_saeb_lingua_portuguesa    218.382525\n",
       "ideb                             0.911944\n",
       "dtype: float64"
      ]
     },
     "execution_count": 124,
     "metadata": {},
     "output_type": "execute_result"
    }
   ],
   "source": [
    "data_f2_ar_est[dados_numericos].var()"
   ]
  },
  {
   "cell_type": "code",
   "execution_count": 125,
   "metadata": {},
   "outputs": [
    {
     "name": "stderr",
     "output_type": "stream",
     "text": [
      "C:\\Users\\mclar\\AppData\\Local\\Temp\\ipykernel_16444\\4272007026.py:1: UserWarning: Boolean Series key will be reindexed to match DataFrame index.\n",
      "  data_f2_ar_mun = data_f2_ar[(data['rede'] == 'municipal')]\n"
     ]
    }
   ],
   "source": [
    "data_f2_ar_mun = data_f2_ar[(data['rede'] == 'municipal')]"
   ]
  },
  {
   "cell_type": "code",
   "execution_count": 126,
   "metadata": {},
   "outputs": [],
   "source": [
    "# fazer média só de 3 anos???? "
   ]
  }
 ],
 "metadata": {
  "kernelspec": {
   "display_name": "Python 3",
   "language": "python",
   "name": "python3"
  },
  "language_info": {
   "codemirror_mode": {
    "name": "ipython",
    "version": 3
   },
   "file_extension": ".py",
   "mimetype": "text/x-python",
   "name": "python",
   "nbconvert_exporter": "python",
   "pygments_lexer": "ipython3",
   "version": "3.12.0"
  }
 },
 "nbformat": 4,
 "nbformat_minor": 2
}
